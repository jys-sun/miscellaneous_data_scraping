{
 "cells": [
  {
   "cell_type": "markdown",
   "metadata": {},
   "source": [
    "### Required package\n",
    "strudel scraper (https://cmustrudel.github.io/strudel.scraper/)\n",
    "\n",
    "#### Installation\n",
    "```bash\n",
    "    pip install --user --upgrade strudel.scraper\n"
   ]
  },
  {
   "cell_type": "markdown",
   "metadata": {},
   "source": [
    "### githubSettings\n",
    "In a separete .py file, \"githubSettings.py\", add the github tokens and the repo name as follows:\n",
    "\n",
    "```python\n",
    "\n",
    "tokens=\"token1,token2,token3\"\n",
    "\n",
    "```"
   ]
  },
  {
   "cell_type": "code",
   "execution_count": 4,
   "metadata": {},
   "outputs": [],
   "source": [
    "import pandas as pd\n",
    "import extended_scraper\n",
    "import json\n",
    "import os,time\n",
    "import githubSettings\n",
    "import requests\n",
    "from tqdm import tqdm\n"
   ]
  },
  {
   "cell_type": "code",
   "execution_count": 7,
   "metadata": {},
   "outputs": [],
   "source": [
    "# setup github method: input the tokens\n",
    "github_api =extended_scraper.extendedScraper(githubSettings.tokens)\n"
   ]
  },
  {
   "cell_type": "code",
   "execution_count": 9,
   "metadata": {},
   "outputs": [
    {
     "data": {
      "text/plain": [
       "'rxin'"
      ]
     },
     "execution_count": 9,
     "metadata": {},
     "output_type": "execute_result"
    }
   ],
   "source": [
    "#getting issue details given repo slug and issue number\n",
    "\n",
    "repo_slug_demo='apache/spark'\n",
    "issue_num_demo=1\n",
    "issue_detail=github_api.get_repo_issue_detail(repo_slug_demo,issue_num_demo)\n",
    "\n",
    "#store the issue details to the variables\n",
    "title=issue_detail['title']\n",
    "body=issue_detail['body']\n",
    "labels=[l.get('name') for l in issue_detail['labels']]\n",
    "created_at=issue_detail['created_at']\n",
    "updated_at=issue_detail['updated_at']\n",
    "closed_at=issue_detail['closed_at']\n",
    "author_login=issue_detail['user']['login']\n",
    "\n",
    "author_login"
   ]
  },
  {
   "cell_type": "code",
   "execution_count": 10,
   "metadata": {},
   "outputs": [
    {
     "name": "stderr",
     "output_type": "stream",
     "text": [
      "4it [00:00,  4.20it/s]"
     ]
    },
    {
     "name": "stdout",
     "output_type": "stream",
     "text": [
      "issue/pr #4 scraped in0.0 secs \n",
      "\n",
      "issue/pr #3 scraped in0.0 secs \n",
      "\n",
      "issue/pr #2 scraped in0.0 secs \n",
      "\n",
      "issue/pr #1 scraped in0.0 secs \n",
      "\n"
     ]
    },
    {
     "name": "stderr",
     "output_type": "stream",
     "text": [
      "\n"
     ]
    }
   ],
   "source": [
    "#getting all issue/PRs given repo slug, return a generator\n",
    "repo_slug=\"Nuri22/csDetector\"\n",
    "repo_pr_issues=github_api.get_repo_all_pr_issues(repo_slug)\n",
    "\n",
    "#iterate the generator and store the results\n",
    "for item in tqdm(repo_pr_issues):\n",
    "    start_time=time.time()\n",
    "\n",
    "    issue_number=item['number']\n",
    "    title=item['title']\n",
    "    body=item['body']\n",
    "    labels=[l.get('name') for l in item['labels']]\n",
    "\n",
    "    assignee=item['assignee'] or {}\n",
    "    assignee=assignee.get('login')\n",
    "\n",
    "    assignees=item['assignees'] or {}\n",
    "    assignees_list=[user.get('login') for user in assignees]\n",
    "\n",
    "    author_association=item['author_association']\n",
    "\n",
    "    comments_num=item['comments']\n",
    "\n",
    "    issue_or_pr='pull' if 'pull_request' in item else 'issue'\n",
    "    created_at=item['created_at']\n",
    "    updated_at=item['updated_at']\n",
    "    closed_at=item['closed_at']\n",
    "    author_login=item['user']['login']\n",
    "    issue_status=item['state']\n",
    "\n",
    "    end_time=time.time()\n",
    "    times=round(end_time-start_time,2)\n",
    "    print(\"issue/pr #\"+str(issue_number)+\" scraped in\"+str(times)+\" secs \\n\")\n"
   ]
  },
  {
   "cell_type": "code",
   "execution_count": null,
   "metadata": {},
   "outputs": [],
   "source": []
  }
 ],
 "metadata": {
  "kernelspec": {
   "display_name": "Python 3.7.3 ('tlenv')",
   "language": "python",
   "name": "python3"
  },
  "language_info": {
   "codemirror_mode": {
    "name": "ipython",
    "version": 3
   },
   "file_extension": ".py",
   "mimetype": "text/x-python",
   "name": "python",
   "nbconvert_exporter": "python",
   "pygments_lexer": "ipython3",
   "version": "3.8.8"
  },
  "orig_nbformat": 4,
  "vscode": {
   "interpreter": {
    "hash": "0f08cc1b667e464d03aa59223be72ca9786ee0ea85b5e6f7995e26285d425e83"
   }
  }
 },
 "nbformat": 4,
 "nbformat_minor": 2
}
